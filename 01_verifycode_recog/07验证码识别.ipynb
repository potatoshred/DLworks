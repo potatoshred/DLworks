{
 "cells": [
  {
   "cell_type": "code",
   "execution_count": 70,
   "metadata": {},
   "outputs": [],
   "source": [
    "import requests\n",
    "from PIL import Image, ImageSequence\n",
    "import numpy as np\n",
    "import matplotlib.pyplot as plt\n",
    "import io\n",
    "\n",
    "import torch\n",
    "import torch.nn as nn\n",
    "import torch.optim as optim"
   ]
  },
  {
   "cell_type": "code",
   "execution_count": 71,
   "metadata": {},
   "outputs": [],
   "source": [
    "# 拉取验证码图片\n",
    "url = \"https://pass.hust.edu.cn/cas/code\"\n",
    "UA = \"Mozilla/5.0 (Windows NT 10.0; Win64; x64) AppleWebKit/537.36 (KHTML, like Gecko) Chrome/126.0.0.0 Safari/537.36\"\n",
    "\n",
    "headers = {\n",
    "    \"User-Agent\":UA,\n",
    "}\n",
    "\n",
    "response = requests.get(url, headers=headers)\n",
    "# with open(\"code.gif\", \"wb\") as f:\n",
    "#     f.write(response.content)"
   ]
  },
  {
   "cell_type": "code",
   "execution_count": 72,
   "metadata": {},
   "outputs": [
    {
     "data": {
      "image/jpeg": "[encoded data removed]",
      "image/png": "[encoded data removed]",
      "text/plain": [
       "<PIL.GifImagePlugin.GifImageFile image mode=RGB size=90x58>"
      ]
     },
     "execution_count": 72,
     "metadata": {},
     "output_type": "execute_result"
    }
   ],
   "source": [
    "img = Image.open(io.BytesIO(response.content))\n",
    "img.seek(1) # 帧指针指向第二帧\n",
    "img"
   ]
  },
  {
   "cell_type": "markdown",
   "metadata": {},
   "source": [
    "预处理+分割"
   ]
  },
  {
   "cell_type": "code",
   "execution_count": 73,
   "metadata": {},
   "outputs": [
    {
     "data": {
      "text/plain": [
       "torch.Size([4, 1, 24, 16])"
      ]
     },
     "execution_count": 73,
     "metadata": {},
     "output_type": "execute_result"
    }
   ],
   "source": [
    "# arr1 = np.zeros((58, 90))\n",
    "# for frame in ImageSequence.Iterator(img):\n",
    "#     arr2 = np.array(frame.convert('L'))\n",
    "#     # print(arr2.shape)\n",
    "#     arr1 += arr2\n",
    "# arr1 = arr1//4\n",
    "\n",
    "# arr1 = (arr1 < 210)*255  # 阈值化\n",
    "# merged_image = Image.fromarray(arr1)  # 从numpy数组转换回图片\n",
    "# merged_image = merged_image.convert('L')  # 转为灰度图\n",
    "# d = [np.array(merged_image.crop((0, 16, 16, 40))), \n",
    "#       np.array(merged_image.crop((22, 16, 38, 40))), \n",
    "#       np.array(merged_image.crop((44, 16, 60, 40))), \n",
    "#       np.array(merged_image.crop((66, 16, 82, 40)))]\n",
    "\n",
    "# data = [np.array(tuple(i)).reshape(24, 16).astype(np.float32) for i in d]\n",
    "# data = torch.tensor(data).reshape(-1, 1, 24, 16)\n",
    "\n",
    "# data.shape\n"
   ]
  },
  {
   "cell_type": "markdown",
   "metadata": {},
   "source": [
    "### 加载模型"
   ]
  },
  {
   "cell_type": "code",
   "execution_count": 74,
   "metadata": {},
   "outputs": [
    {
     "data": {
      "text/plain": [
       "CNN(\n",
       "  (conv1): Conv2d(1, 32, kernel_size=(3, 3), stride=(1, 1), padding=(1, 1))\n",
       "  (relu): ReLU()\n",
       "  (maxpool): MaxPool2d(kernel_size=2, stride=2, padding=0, dilation=1, ceil_mode=False)\n",
       "  (conv2): Conv2d(32, 32, kernel_size=(3, 3), stride=(1, 1))\n",
       "  (fc1): Linear(in_features=480, out_features=128, bias=True)\n",
       "  (fc2): Linear(in_features=128, out_features=10, bias=True)\n",
       ")"
      ]
     },
     "execution_count": 74,
     "metadata": {},
     "output_type": "execute_result"
    }
   ],
   "source": [
    "# # 定义CNN模型， 直接使用pytorch的API\n",
    "# class CNN(nn.Module):\n",
    "#     def __init__(self):\n",
    "#         super(CNN, self).__init__()\n",
    "#         # 卷积层1，填充1， 宽度增加2，卷积核大小3x3，输出长宽仍为16*24\n",
    "#         self.conv1 = nn.Conv2d(in_channels=1, out_channels=32, kernel_size=3, stride=1,padding=1) \n",
    "#         self.relu = nn.ReLU()  # 激活函数\n",
    "#         # 池化层1， 长宽均缩减一半， 输出长宽为8*12\n",
    "#         self.maxpool = nn.MaxPool2d(kernel_size=2, stride=2)  \n",
    "#         # # 卷积层2，卷积核大小是3x3，输出长宽为6*10\n",
    "#         self.conv2 = nn.Conv2d(32, 32, kernel_size=3, stride=1) \n",
    "#         # 2次卷积+池化后，当前图片的大小是3x5， 64个通道。\n",
    "#         self.fc1 = nn.Linear(32*3*5, 128)  # 全连接层1, 输出128个特征\n",
    "#         self.fc2 = nn.Linear(128, 10)  # 全连接层2, 输出10个分类\n",
    "\n",
    "#     def forward(self, x):\n",
    "#         # 卷积层1，填充1， 宽度增加2，卷积核大小3x3，输出长宽仍为16*24\n",
    "#         x = self.conv1(x)\n",
    "#         x = self.relu(x)\n",
    "#         # 池化层1， 长宽均缩减一半， 输出长宽为8*12\n",
    "#         x = self.maxpool(x)\n",
    "#         # 卷积层2，卷积核大小是3x3，输出长宽为6*10\n",
    "#         x = self.conv2(x)\n",
    "#         x = self.relu(x)\n",
    "#         # 池化层2， 长宽均缩减一半， 输出长宽为3*5\n",
    "#         x = self.maxpool(x)\n",
    "#         x = x.view(x.size(0), -1)\n",
    "#         # 全连接层1, 输出128个特征\n",
    "#         x = self.fc1(x)\n",
    "#         x = self.relu(x)\n",
    "#         # 全连接层2, 输出10个分类\n",
    "#         x = self.fc2(x)\n",
    "#         return x\n",
    "    \n",
    "# net = CNN()\n",
    "# net.load_state_dict(torch.load('cnn_model.pth'))\n",
    "# net.eval()  # 评估模式"
   ]
  },
  {
   "cell_type": "markdown",
   "metadata": {},
   "source": [
    "结果\n"
   ]
  },
  {
   "cell_type": "code",
   "execution_count": 75,
   "metadata": {},
   "outputs": [
    {
     "name": "stdout",
     "output_type": "stream",
     "text": [
      "tensor([8, 2, 8, 2])\n"
     ]
    },
    {
     "data": {
      "image/jpeg": "[encoded data removed]",
      "image/png": "[encoded data removed]",
      "text/plain": [
       "<PIL.GifImagePlugin.GifImageFile image mode=RGB size=90x58>"
      ]
     },
     "execution_count": 75,
     "metadata": {},
     "output_type": "execute_result"
    }
   ],
   "source": [
    "# ret = net(data)\n",
    "# print(ret.argmax(dim=1))  # 识别出来的数字\n",
    "# img.seek(1)\n",
    "# img"
   ]
  }
 ],
 "metadata": {
  "kernelspec": {
   "display_name": "Pytch",
   "language": "python",
   "name": "python3"
  },
  "language_info": {
   "codemirror_mode": {
    "name": "ipython",
    "version": 3
   },
   "file_extension": ".py",
   "mimetype": "text/x-python",
   "name": "python",
   "nbconvert_exporter": "python",
   "pygments_lexer": "ipython3",
   "version": "3.9.18"
  }
 },
 "nbformat": 4,
 "nbformat_minor": 2
}
