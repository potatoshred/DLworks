{
 "cells": [
  {
   "cell_type": "markdown",
   "metadata": {},
   "source": [
    "### 我们使用python的requests库来获得一些验证码训练材料，作为机器学习的训练数据。"
   ]
  },
  {
   "cell_type": "markdown",
   "metadata": {},
   "source": [
    "👇`requests`库是python最流行的HTTP请求库，可以用来发送HTTP请求。"
   ]
  },
  {
   "cell_type": "code",
   "execution_count": 324,
   "metadata": {},
   "outputs": [],
   "source": [
    "# !pip install requests    # 下载requests库\n",
    "import requests\n",
    "import time"
   ]
  },
  {
   "cell_type": "markdown",
   "metadata": {},
   "source": [
    "👇下面`url`是学校登陆页面验证码的请求地址,\n",
    "`UA`是浏览器的User-Agent，如果没有指定，则会使用默认UA。（一般默认的UA会被识别为爬虫）。\n",
    "\n",
    "感兴趣的可以试一下删掉之后会发生什么。"
   ]
  },
  {
   "cell_type": "code",
   "execution_count": 325,
   "metadata": {},
   "outputs": [],
   "source": [
    "url = \"https://pass.hust.edu.cn/cas/code\"\n",
    "UA = \"Mozilla/5.0 (Windows NT 10.0; Win64; x64) AppleWebKit/537.36 (KHTML, like Gecko) Chrome/126.0.0.0 Safari/537.36\""
   ]
  },
  {
   "cell_type": "markdown",
   "metadata": {},
   "source": [
    "👇`headers`是请求头，作用是告诉服务器我们是什么类型的浏览器，以及我们请求的资源类型。\n",
    "\n",
    "这些内容都可以利用浏览器自带的开发者工具查看，也可以在网上搜索相关资料。\n",
    "<img src=\"./img/inspector.png\" width=\"70%\" height=\"auto\"/>"
   ]
  },
  {
   "cell_type": "code",
   "execution_count": 326,
   "metadata": {},
   "outputs": [],
   "source": [
    "headers = {\n",
    "    \"User-Agent\":UA,\n",
    "    # \"Host\": \"pass.hust.edu.cn\",\n",
    "    # \"Cookie\":\"XXXXXXXXXXXXXXXXX\",\n",
    "    # ...\n",
    "}"
   ]
  },
  {
   "cell_type": "markdown",
   "metadata": {},
   "source": [
    "👇下面是get请求,向服务器请求验证码图片，\n",
    "\n",
    "`img.content`方法返回二进制形式内容\n",
    "\n",
    "<img src=\"./img/inspector.png\" width=\"50%\" height=\"auto\"/>"
   ]
  },
  {
   "cell_type": "code",
   "execution_count": 327,
   "metadata": {},
   "outputs": [
    {
     "data": {
      "text/plain": [
       "b'GIF89aZ\\x00:\\x00\\xf7\\x00\\x00\\x00\\x00\\x00\\x01\\x01\\x01\\x02\\x02\\x02\\x03\\x03\\x03\\x04\\x04\\x04\\x05\\x05\\x05\\x06\\x06\\x06\\x07\\x07\\x07\\x08\\x08\\x08\\t\\t\\t\\n\\n\\n\\x0b\\x0b\\x0b\\x0c\\x0c\\x0c\\r\\r\\r\\x0e\\x0e\\x0e\\x0f\\x0f\\x0f\\x10\\x10\\x10\\x11\\x11\\x11\\x12\\x12\\x12\\x13\\x13\\x13\\x14\\x14\\x14\\x15\\x15\\x15\\x16\\x16\\x16\\x17\\x17\\x17\\x18\\x18\\x18\\x19\\x19\\x19\\x1a\\x1a\\x1a\\x1b\\x1b\\x1b\\x1c\\x1c\\x1c\\x1d\\x1d\\x1d\\x1e\\x1e\\x1e\\x1f\\x1f\\x1f   !!!\"\"\"###$$$%%%&&&\\'\\'\\'((()))***+++,,,---...///000111222333444555666777888999:::;;;<<<===>>>???@@@AAABBBCCCDDDEEEFFFGGGHHHIIIJJJKKKLLLMMMNNNOOOPPPQQQRRRSSSTTTUUUVVVWWWXXXYYYZZZ[[[\\\\\\\\\\\\]]]^^^___```aaabbbcccdddeeefffggghhhiiijjjkkklllmmmnnnooopppqqqrrrssstttuuuwswzrz|p}~o\\x7f\\x80m\\x81\\x82k\\x83\\x84j\\x85\\x85h\\x86\\x86g\\x88\\x87e\\x89\\x88d\\x8a\\x89b\\x8b\\x8aa\\x8c\\x8b`\\x8d\\x8b^\\x8e\\x8c]\\x8e\\x8c\\\\\\x8f\\x8c[\\x8f\\x8dZ\\x8f\\x8dZ\\x90\\x8dY\\x90\\x8dX\\x90\\x8dX\\x90\\x8dX\\x90\\x8eX\\x90\\x8eX\\x90\\x8eX\\x90\\x8eY\\x91\\x8eZ\\x91\\x8e[\\x91\\x8e\\\\\\x91\\x8fc\\x95\\x8fk\\x99\\x8fr\\x9c\\x90x\\xa0\\x90\\x83\\xa6\\x90\\x8b\\xab\\x90\\x92\\xb0\\x90\\x98\\xb3\\x90\\x9c\\xb6\\x90\\x9f\\xb8\\x90\\xa2\\xba\\x90\\xa3\\xbb\\x90\\xa5\\xbc\\x90\\xa6\\xbc\\x90\\xa6\\xbd\\x90\\xa7\\xbd\\x90\\xa7\\xbd\\x92\\xa8\\xbe\\x93\\xa9\\xbe\\x95\\xaa\\xbf\\x97\\xab\\xc0\\x99\\xac\\xc0\\x9c\\xad\\xc1\\x9f\\xaf\\xc2\\xa3\\xb1\\xc3\\xa8\\xb4\\xc4\\xae\\xb6\\xc5\\xb4\\xb9\\xc6\\xbb\\xbd\\xc8\\xc9\\xc7\\xd0\\xdb\\xd9\\xdf\\xe9\\xe8\\xeb\\xf2\\xf2\\xf3\\xf8\\xf8\\xf9\\xfc\\xfc\\xfc\\xfd\\xfd\\xfd\\xfe\\xfe\\xfe\\xfe\\xfe\\xfe\\xfe\\xfe\\xfe\\xfe\\xfe\\xfe\\xfe\\xfe\\xfe\\xfe\\xfe\\xfe\\xfe\\xfe\\xfe\\xfe\\xfe\\xfe\\xfe\\xfe\\xfe\\xfe\\xfe\\xfe\\xfe\\xfe\\xfe\\xfe\\xfe\\xfe\\xfe\\xfe\\xfe\\xfe\\xfe\\xfe\\xfe\\xfe\\xfe\\xfe\\xfe\\xfe\\xfe\\xfe\\xfe\\xfe\\xfe\\xfe\\xfe\\xfe\\xfe\\xfe\\xfe\\xfe\\xfe\\xfe\\xfe\\xfe\\xfe\\xfe\\xfe\\xfe\\xfe\\xfe\\xfe\\xfe\\xfe\\xfe\\xfe\\xfe\\xfe\\xfe\\xfe\\xfe\\xfe\\xfe\\xfe\\xfe\\xfe\\xfe\\xfe\\xfe\\xfe\\xfe\\xfe\\xfe\\xfe\\xfe\\xfe\\xfe\\xfe\\xfe\\xfe\\xfe\\xfe\\xfe\\xfe\\xfe\\xfe\\xfe\\xfe\\xfe\\xfe\\xfe\\xfe\\xfe\\xfe\\xfe\\xfe\\xfe\\xfe\\xfe\\xfe\\xfe\\xfe\\xfe\\xfe\\xfe\\xfe\\xfe\\xfe\\xfe\\xfe\\xfe\\xfe\\xfe\\xfe\\xfe\\xfe\\xfe\\xfe\\xfe\\xfe\\xfe\\xfe\\xfe\\xfe\\xfe\\xfe\\xfe\\xfe\\xfe\\xfe\\xfe\\xfe\\xfe\\xfe\\xfe\\xfe\\xfe\\xfe\\xfe\\xfe\\xfe\\xfe\\xfe\\xfe\\xfe\\xfe\\xfe\\xfe\\xfe\\xfe\\xfe\\xfe\\xfe\\xfe\\xfe\\xfe\\xfe\\xfe\\xfe\\xfe\\xfe\\xfe\\xfe\\xfe\\xfe\\xfe\\xfe\\xfe\\xfe\\xfe\\xfe\\xfe\\xfe\\xfe\\xfe\\xfe\\xfe\\xfe\\xfe\\xfe\\xfe\\xfe\\xfe\\xfe\\xfe\\xfe\\xfe\\xfe\\xfe\\xfe\\xfe\\xff\\xff\\xff!\\xff\\x0bNETSCAPE2.0\\x03\\x01\\x00\\x00\\x00!\\xf9\\x04\\x00\\n\\x00\\x00\\x00,\\x00\\x00\\x00\\x00Z\\x00:\\x00\\x00\\x08\\xfe\\x00\\xff\\t\\x1cH\\xb0\\xa0\\xc1\\x83\\x08\\x13*\\\\\\xc8\\xb0\\xa1C\\x87\\xb3\"F|H\\xb1\\xa2\\xc5\\x8a\\x13\\tf\\xbc\\xc8\\xb1\\xe3\\xc5Y\\x08Az\\x1cI2\\xa1\\xc8\\x83\\'K\\xaa,\\x99\\xd2`\\xcb\\x950-\\xbe\\x1c83\\xa6M\\x88(k\\xde\\xdci\\x12%\\xcf\\x9f\\x0f%\\xfe\\x13\\n\\xb4(N\\xa3H\\x93*]\\xca\\xb4\\xa9\\xd3\\xa7P\\xa3J\\x9dJ\\xb5\\xaa\\xd5\\xabNe\\xc9\\xe2h\\xaa\\xab)\\x8a\\x8e\\xc2\\x8audT\\xab\\xd9\\xad\\x16\\xbdvm8\\xb6m\\xd8\\x9fg\\xcf\\xa6U\\xfbu\\xa1[\\xb7\\x045\\xe9]\\x19\\xd7lE\\xbak\\x15\\xb65\\xf8V\\xa0\\xa6\\x81\\x87Kj\\x15(\\xf7\\xa1\\xd7\\x7fj\\x05\\x8be\\x98\\x98g\\xe3\\x86\\x8f!g>8xa\\xe5\\x9b\\x97\\x19f\\x8e\\x9cpl\\xc3\\xcf6C+$M\\x9a\\xf3d\\x81\\x9d\\xf3\\xc2\\xf5\\x8b9\\xb0f\\xdb\\x84\\'\\xdf-lx\\xf6b\\xd1\\xb8[\\xe7\\xde\\x1d\\x1buL\\xd5\\x077\\x0b\\x14^06l\\xd3\\xbd\\x11\\xc3DnP\\xf9\\xed\\xba\\x08\\xa17\\x7fm\\xf8\\xf0^\\xbe\\xb4\\x13\\x95\\x02\\x1e\\x8f{\\xa0\\xf6\\xed\\xbc\\xa5\\x1f\\x0f\\x8f\\x90\\xfcx\\xd7\\xe9\\t\\x9e\\xb7\\xcc>\\xb9{\\xba\\xd9\\xe3\\x9b\\xe7\\xee\\x1b\\xed\\xdc\\xf2\\xe8\\x91\\x15 R\\xd4\\xd5\\x06\\xa0|\\xe79\\xb7^_\\x05\\xb6g\\x1d|\\xc4\\xf5\\xc7\\xa0\\x7f\\x06b\\'\\xd9n@M\\xd8\\xa0}\\x07B\\xc8\\x1fV \\x86(\\xe2\\x88$\\x96h\\xe2\\x89(\\xc6\\x84\\xc9\\x8a)v\\xc4\\xa2@/\\xb6H\\x11&\\x05\\xd1(\\xe3C6\\x12\\x94\\xe3\\x8d\\x0c\\xed8\\x90\\x8f<\"\\x04\\xe4?C\\x06Y\\xa3AE\\x1a\\xa9#\\x92J\\xf6xd\\x93\\n\\xed\\x18#\\x94B\\xd2\\x98$\\x95ObiT@\\x00!\\xf9\\x04\\x00\\n\\x00\\x00\\x00,\\x00\\x00\\x00\\x00Z\\x00:\\x00\\x87\\x00\\x00\\x00\\x01\\x01\\x01\\x02\\x02\\x02\\x03\\x03\\x03\\x04\\x04\\x04\\x05\\x05\\x05\\x06\\x06\\x06\\x07\\x07\\x07\\x08\\x08\\x08\\t\\t\\t\\n\\n\\n\\x0b\\x0b\\x0b\\x0c\\x0c\\x0c\\r\\r\\r\\x0e\\x0e\\x0e\\x0f\\x0f\\x0f\\x10\\x10\\x10\\x11\\x11\\x11\\x12\\x12\\x12\\x13\\x13\\x13\\x14\\x14\\x14\\x15\\x15\\x15\\x16\\x16\\x16\\x17\\x17\\x17\\x18\\x18\\x18\\x19\\x19\\x19\\x1a\\x1a\\x1a\\x1b\\x1b\\x1b\\x1c\\x1c\\x1c\\x1d\\x1d\\x1d\\x1e\\x1e\\x1e\\x1f\\x1f\\x1f   !!!\"\"\"###$$$%%%&&&\\'\\'\\'((()))***+++,,,---...///000111222333444555666777888999:::;;;<<<===>>>???@@@AAABBBCCCDDDEEEFFFGGGHHHIIIJJJKKKLLLMMMNNNOOOQLRTITVFWXCYZA[\\\\>]^;__9a`6ba4db2ec/fd-ge+he)hf(if&if%jg$jg#jg\"kg!kg!kg kh kh!kh!kh\"kh#lh$lg,pf5te=xdD|cK\\x80cR\\x83a\\\\\\x89_d\\x8e^k\\x92]p\\x95\\\\s\\x98\\\\v\\x9a[x\\x9b[y\\x9cZz\\x9dZ{\\x9eZ|\\x9eZ|\\x9eZ|\\x9eZ}\\x9eZ}\\x9eZ}\\x9e[}\\x9e[}\\x9e\\\\}\\x9d]~\\x9d_~\\x9ca\\x7f\\x9cc\\x7f\\x9bg\\x80\\x9ao\\x83\\x99x\\x86\\x98~\\x88\\x98\\x83\\x89\\x99\\x88\\x8b\\x99\\x8d\\x8c\\x99\\x91\\x8e\\x9a\\x94\\x8f\\x9a\\x97\\x90\\x9b\\x9a\\x91\\x9b\\x9a\\x91\\x9c\\x9b\\x91\\x9c\\x9b\\x91\\x9d\\x9c\\x91\\x9d\\x9c\\x91\\x9e\\x9c\\x91\\x9e\\x9c\\x91\\x9e\\x9d\\x91\\x9e\\x9d\\x91\\x9e\\x9d\\x91\\x9f\\x9d\\x92\\x9f\\x9d\\x92\\x9f\\xa4\\x9a\\xa3\\xaa\\xa2\\xa7\\xb0\\xa9\\xab\\xb5\\xaf\\xaf\\xba\\xb4\\xb2\\xbe\\xb9\\xb4\\xc2\\xbe\\xb7\\xc5\\xc1\\xb9\\xc7\\xc4\\xbb\\xc9\\xc7\\xbc\\xcd\\xcb\\xbf\\xd2\\xd0\\xc4\\xd7\\xd5\\xc8\\xda\\xd9\\xcc\\xe5\\xe3\\xda\\xec\\xeb\\xe4\\xf2\\xf1\\xec\\xf6\\xf5\\xf1\\xf8\\xf8\\xf5\\xfa\\xfa\\xf8\\xfc\\xfc\\xfa\\xfd\\xfd\\xfc\\xfd\\xfd\\xfd\\xfe\\xfe\\xfe\\xfe\\xfe\\xfe\\xfe\\xfe\\xfe\\xfe\\xfe\\xfe\\xfe\\xfe\\xfe\\xfe\\xfe\\xfe\\xfe\\xfe\\xfe\\xfe\\xfe\\xfe\\xfe\\xfe\\xfe\\xfe\\xfe\\xfe\\xfe\\xfe\\xfe\\xfe\\xfe\\xfe\\xfe\\xfe\\xfe\\xfe\\xfe\\xfe\\xfe\\xfe\\xfe\\xfe\\xfe\\xfe\\xfe\\xfe\\xfe\\xfe\\xfe\\xfe\\xfe\\xfe\\xfe\\xfe\\xfe\\xfe\\xfe\\xfe\\xfe\\xfe\\xfe\\xfe\\xfe\\xfe\\xfe\\xfe\\xfe\\xfe\\xfe\\xfe\\xfe\\xfe\\xfe\\xfe\\xfe\\xfe\\xfe\\xfe\\xfe\\xfe\\xfe\\xfe\\xfe\\xfe\\xfe\\xfe\\xfe\\xfe\\xfe\\xfe\\xfe\\xfe\\xfe\\xfe\\xfe\\xfe\\xfe\\xfe\\xfe\\xfe\\xfe\\xfe\\xfe\\xfe\\xfe\\xfe\\xfe\\xfe\\xfe\\xfe\\xfe\\xfe\\xfe\\xfe\\xfe\\xfe\\xfe\\xfe\\xfe\\xfe\\xfe\\xfe\\xfe\\xfe\\xfe\\xfe\\xfe\\xfe\\xfe\\xfe\\xfe\\xfe\\xfe\\xfe\\xfe\\xfe\\xfe\\xfe\\xfe\\xfe\\xfe\\xfe\\xfe\\xfe\\xfe\\xfe\\xfe\\xfe\\xfe\\xfe\\xfe\\xfe\\xfe\\xfe\\xfe\\xfe\\xfe\\xfe\\xfe\\xfe\\xfe\\xfe\\xfe\\xfe\\xfe\\xfe\\xfe\\xfe\\xfe\\xfe\\xfe\\xfe\\xfe\\xfe\\xfe\\xfe\\xfe\\xfe\\xfe\\xfe\\xfe\\xfe\\xfe\\xfe\\xfe\\xfe\\xfe\\xfe\\xfe\\xfe\\xfe\\xfe\\xfe\\xfe\\xfe\\xfe\\xfe\\xfe\\xfe\\xfe\\xfe\\xfe\\xfe\\xfe\\xfe\\xfe\\xff\\xff\\xff\\x08\\xfe\\x00\\xff\\t\\x1cH\\xb0\\xa0\\xc1\\x83\\x08\\x13*\\\\\\xc8\\xb0\\xa1\\xc3\\x87\\x10#J\\x9cH\\xb1\\xa2\\xc5\\x8b\\x183j\\xdc\\xc8\\xb1\\xe2\\x9c\\x8f\\x1f;\\x8a\\xcc8\\x87`\\xc9\\x91()\\x9e\\x14\\x182\\xa5\\xcb\\x87-[\\xbe\\x9c\\xc9\\x10\\xa4L\\x9a8\\x13\\xae\\xcc\\xc9\\xb3\\xa7\\xcf\\x9f@\\x83\\n\\x1dJ\\xb4\\xa8\\xd1\\xa3H\\x93*]:\\xd3\\x95\\xd3\\xa7\\xae\"~\\xfaDq\\x90\\xd5A\\x10\\xd1h\\xdd\\x8a\\xc6!\\xd4\\xafN\\x19N\\x1dKU\\xe2U\\xab\\r\\xb9\\xaa\\xd5\\xca\\x10,X\\x85d\\xc9\\x9a=\\x8bu\\xe1\\xda\\xb5\\x0b\\xbf\\x1a\\x0c\\x9b0\\xee\\xd8\\x88t\\xd1*Tk\\x90mB\\xa8\\x14\\xa7\\n\\x94\\xfb\\xf0\\xea\\xbf\\xb3\\x83\\xb7N\\xd4{\\x91qC\\xc7\\x8f1\\x1f$,\\x11q\\xe5\\xbf\\x0e1CN\\xc8u\\xf2\\xd3\\x81\\x94\\x1fZ^8z\\xf4f\\xc9\\x029+D\\xec\\x96o\\xc3\\xd5\\n5\\xbb.,\\xf9\\xaea\\x84\\xb5\\xdd:\\xc4m\\x90\\x14);\\x82\\x05\\xee.\\xe8\\xfb\\xeea\\xcf\\xa8\\xa1/$N\\x90\\xd4c;v\\n.\\'(;vi\\xe0\\xa7\\xf7\\xd0\\x86\\x9f\\x0e\\x1a\\xa1u\\xc7\\xd6\\x95k~\\xfd\\x9b;\\xec\\x83\\xe3\\x0bJ\\xef[\\xfe \\xa9\\xc0\\xc8\\x03\\xd7e\\xfe\\x9e\\x7f{\\xf9\\xb6\\x01\\x18 }\\x8a\\x99\\x97\\xd9Y\\xf9\\x05\\xc6^W\\x0b>\\x17\\x15|\\xf1\\x11X\\x96}\\x07^\\x95 ]\\x08\\xf5\\xe7\\xde\\x7f\\x04\\xcd\\xf7\\x8f\\x87\\x08Q\\'Pz\\xc5U\\x18\\x19\\x87\\xdf\\x81\\x17_j\\xe4\\x15H!\\x85\\xdbm\\xd8^w\\x10\\x06\\xf7`\\x88~\\xc5Ub\\x891\\xfa\\xd7\\\\C6\\xb6\\x98\\xa3\\x8b\\x03\\x91X\\x9d\\x89\\x0c5\\xc7 \\x90o\\x895d}#\\xc2\\xb8\\xde\\x89)\\xce\\x04\\x92CF\\xfe\\x93%S&\\r\\xb4SB\\xc6\\x15\\xb9%\\x97,y\\x89\\xa5uc\\x92Y\\xa6\\x99X\\xaa\\xa9\\x13\\x9bn^\\xb4\\xd2\\x97qN\\x14\\x12\\x9du\\xaa\\x94\\xe7\\x9e|\\xf6\\xe9\\xe7\\x9f\\x80\\x06*\\xe8\\xa0\\x84\\x16j\\xe8\\xa1\\x88\\x0e\\x14\\x10\\x00!\\xf9\\x04\\x00\\n\\x00\\x00\\x00,\\x00\\x00\\x00\\x00Z\\x00:\\x00\\x87\\x00\\x00\\x00\\x01\\x01\\x01\\x02\\x02\\x02\\x03\\x03\\x03\\x04\\x04\\x04\\x05\\x05\\x05\\x06\\x06\\x06\\x07\\x07\\x07\\x08\\x08\\x08\\t\\t\\t\\n\\n\\n\\x0b\\x0b\\x0b\\x0c\\x0c\\x0c\\r\\r\\r\\x0e\\x0e\\x0e\\x0f\\x0f\\x0f\\x10\\x10\\x10\\x11\\x11\\x11\\x12\\x12\\x12\\x13\\x13\\x13\\x14\\x14\\x14\\x15\\x15\\x15\\x16\\x16\\x16\\x17\\x17\\x17\\x18\\x18\\x18\\x19\\x19\\x19\\x1a\\x1a\\x1a\\x1b\\x1b\\x1b\\x1c\\x1c\\x1c\\x1d\\x1d\\x1d\\x1e\\x1e\\x1e\\x1f\\x1f\\x1f   !!!\"\"\"###$$$%%%&&&\\'\\'\\'((()))***+++,,,---...///000111222333444555666777888999:::;;;<<<===;?C:AI8DO7ET5GY4I]2Ja1Ke.Mk+Np)Os\\'Ov&Px%Pz$P{#P|#P}\"P}\"P~\"Q~\"Q~\"Q~#Q~#Q}$Q}%Q|&Q|(R{*Ry0Sw7Tu?UsIVpSXnXXm]YmaZmdZlgZli[ljZmjZmkZnkZnkZnkZolZolZol[ol[ol\\\\pm]pm^pn_pn`qobqpdrqfsrhtskuunvwqxyuy{y{~~~\\x7f\\x7f\\x7f\\x80\\x80\\x80\\x81\\x81\\x81\\x82\\x82\\x82\\x83\\x83\\x83\\x84\\x84\\x84\\x85\\x85\\x85\\x86\\x86\\x86\\x87\\x87\\x87\\x88\\x88\\x88\\x89\\x89\\x89\\x8a\\x8a\\x8a\\x8b\\x8b\\x8b\\x8c\\x8c\\x8c\\x8d\\x8d\\x8d\\x8e\\x8e\\x8e\\x8f\\x8f\\x8f\\x90\\x90\\x90\\x91\\x91\\x91\\x92\\x92\\x92\\x93\\x93\\x93\\x94\\x94\\x94\\x95\\x95\\x95\\x96\\x96\\x96\\x97\\x97\\x97\\x98\\x98\\x98\\x99\\x99\\x99\\x9a\\x9a\\x9a\\x9b\\x9b\\x9b\\x9e\\x9d\\x9a\\xa1\\xa0\\x99\\xa4\\xa2\\x98\\xa6\\xa4\\x97\\xa8\\xa6\\x96\\xaa\\xa7\\x95\\xab\\xa9\\x94\\xac\\xaa\\x93\\xad\\xaa\\x92\\xae\\xab\\x92\\xae\\xab\\x92\\xaf\\xac\\x92\\xb1\\xae\\x94\\xb4\\xb1\\x96\\xc8\\xc6\\xb2\\xd8\\xd6\\xc7\\xe4\\xe2\\xd8\\xec\\xeb\\xe3\\xf2\\xf1\\xec\\xf6\\xf6\\xf2\\xf9\\xf9\\xf6\\xfb\\xfb\\xf9\\xfc\\xfc\\xfb\\xfd\\xfd\\xfd\\xfe\\xfe\\xfe\\xfe\\xfe\\xfe\\xfe\\xfe\\xfe\\xfe\\xfe\\xfe\\xfe\\xfe\\xfe\\xfe\\xfe\\xfe\\xfe\\xfe\\xfe\\xfe\\xfe\\xfe\\xfe\\xfe\\xfe\\xfe\\xfe\\xfe\\xfe\\xfe\\xfe\\xfe\\xfe\\xfe\\xfe\\xfe\\xfe\\xfe\\xfe\\xfe\\xfe\\xfe\\xfe\\xfe\\xfe\\xfe\\xfe\\xfe\\xfe\\xfe\\xfe\\xfe\\xfe\\xfe\\xfe\\xfe\\xfe\\xfe\\xfe\\xfe\\xfe\\xfe\\xfe\\xfe\\xfe\\xfe\\xfe\\xfe\\xfe\\xfe\\xfe\\xfe\\xfe\\xfe\\xfe\\xfe\\xfe\\xfe\\xfe\\xfe\\xfe\\xfe\\xfe\\xfe\\xfe\\xfe\\xfe\\xfe\\xfe\\xfe\\xfe\\xfe\\xfe\\xfe\\xfe\\xfe\\xfe\\xfe\\xfe\\xfe\\xfe\\xfe\\xfe\\xfe\\xfe\\xfe\\xfe\\xfe\\xfe\\xfe\\xfe\\xfe\\xfe\\xfe\\xfe\\xfe\\xfe\\xfe\\xfe\\xfe\\xfe\\xfe\\xfe\\xfe\\xfe\\xfe\\xfe\\xfe\\xfe\\xfe\\xfe\\xfe\\xfe\\xfe\\xfe\\xfe\\xfe\\xfe\\xfe\\xfe\\xfe\\xfe\\xfe\\xfe\\xfe\\xfe\\xfe\\xfe\\xfe\\xfe\\xfe\\xfe\\xfe\\xfe\\xfe\\xfe\\xfe\\xfe\\xfe\\xfe\\xfe\\xfe\\xfe\\xfe\\xfe\\xfe\\xfe\\xfe\\xfe\\xfe\\xfe\\xfe\\xfe\\xfe\\xfe\\xfe\\xfe\\xfe\\xfe\\xfe\\xfe\\xfe\\xfe\\xfe\\xfe\\xfe\\xfe\\xfe\\xfe\\xfe\\xfe\\xfe\\xfe\\xfe\\xfe\\xfe\\xfe\\xfe\\xfe\\xfe\\xfe\\xfe\\xfe\\xfe\\xfe\\xfe\\xfe\\xfe\\xfe\\xfe\\xfe\\xfe\\xfe\\xfe\\xfe\\xfe\\xfe\\xfe\\xfe\\xfe\\xfe\\xfe\\xfe\\xff\\xff\\xff\\x08\\xfe\\x00\\xff\\t\\x1cH\\xb0\\xa0\\xc1\\x83\\x08\\x13*\\\\\\xc8\\xb0\\xa1\\xc3\\x87\\x10#J\\x9cH\\xb1\\xa2\\xc5\\x8b\\x183j\\xdc\\xc8\\xb1\\xa3\\xc7\\x8f C\\x8a\\x1cI\\xb2\\xa4\\xc9\\x93(S\\xaa\\\\\\xc9\\xb2\\xa5\\xcb\\x970c\\xca\\x9cI\\xb3\\xa6\\xcd\\x9b8s\\xea<\\x88\\xaa\\xa7OT\\x11\\xd9\\xb0\\xa18\\xa5\\xe8\\x94\\x92?\\x93\\xf6d(\\xb4\\xe9P\\x89F\\x8b\\x1e4DU\\xa3R\\xa5\\n\\x9d:\\x85\\x1a\\xf5hAC\\x03\\xc1^LjpiB\\xadM#v\\x95\\x9a\\xb0j\\xc5\\x9f\\x14\\x85\\n\\xdc\\xfa\\xd0\\xe8\\xbf\\xa8_\\xf3R${\\x91nC\\xbbw\\x01\\x87\\xd5;\\x11n\\xdf\\xb4\\x0e\\x01\\xe3%,P\\xacD\\xc3\\xff\\xf8>\\xf4\\xbbp\\xf1b\\x82\\x8e\\x07?\\xf6\\x19\\xf9*P\\x87\\x94\\x15\\n\\xbe\\xac\\x19sa\\xcfX\\x1b\\x86F(80[\\xd3\\xb07s&(y\\xe1j\\x83\\xad]{\\x8d\\xddx\\xef\\xec\\x82\\x90\\xb3\"\\x16\\xfdZ \\xe9\\xd2\\xbdO\\x7f.\\xfb[\\xb8\\\\\\xe2k\\xa33\\xfe\\x97\\x19bs\\xda\\xd7\\x11\\xde&\\x18\\xbd\\xbbA\\xc7\\xd5\\xad\\x80\\x9be>\\xde\\xf9\\xd3\\x84\\xdd\\xa5\\x7f\\x05\\xebV\\xf9\\xf2\\x81\\xc1\\xcd\\x13\\xcd=]v\\xf9\\xda\\xf2\\'\\x1e\\xf7\\x88:;A\\xb4hA\\xb4\\xdfG\\xfd\\xd9\\x06\\xe0v\\xac\\xd1\\x07\\xd2U\\xaa\\x1d8\\xdc_\\n\\xee$\\xe1\\x84\\x14Vh\\xe1\\x85\\x11\\xed\\xa0\\xe1\\x0e\\x18J\\xa4!A\\x1fv\\xe8\\x10\\x87\\x06\\x91(\\xa2B&\\x16\\x94\\xe2\\x89\\x07\\xad8\\x90\\x8b,\\x82\\x98\\x10\\x8c1\\xfeC#\\x8d5\\xda\\xd8b\\x8e\\x08\\xb9\\x88#\\x8f\\x1b\\xda\\xf8#\\x8f/\\x12i\\xe4\\x91H\"\\x19\\x10\\x00!\\xf9\\x04\\x00\\n\\x00\\x00\\x00,\\x00\\x00\\x00\\x00Z\\x00:\\x00\\x87\\x00\\x00\\x00\\x01\\x01\\x01\\x02\\x02\\x02\\x03\\x03\\x03\\x04\\x04\\x04\\x05\\x05\\x05\\x06\\x06\\x06\\x07\\x07\\x07\\x08\\x08\\x08\\t\\t\\t\\n\\n\\n\\x0b\\x0b\\x0b\\x0c\\x0c\\x0c\\r\\r\\r\\x0e\\x0e\\x0e\\x0f\\x0f\\x0f\\x10\\x10\\x10\\x11\\x11\\x11\\x12\\x12\\x12\\x13\\x13\\x13\\x14\\x14\\x14\\x15\\x15\\x15\\x16\\x16\\x16\\x17\\x17\\x17\\x18\\x18\\x18\\x19\\x19\\x19\\x1a\\x1a\\x1a\\x1b\\x1b\\x1b\\x1c\\x1c\\x1c\\x1d\\x1d\\x1d\\x1e\\x1e\\x1e\\x1f\\x1f\\x1f   !!!\"\"\"###$$$%%%&&&\\'\\'\\'((()))+)+-(./(11(33(54\\'65\\'86&97&:8%;8%<9$=9$=:$>:#>:#>:#>;#?;#?;$?;%?;%?<&@<\\'@=)@=+A>,A?/B@1BA4CB7DD;FF?GHCIJHKMMMNNNOOOPPPQQQRRRSSSTTTUUUVVVWWWXXXYYYZZZ[[[\\\\\\\\\\\\]]]^^^___```aaabbbcccdddeeefffggghhhiiijjjkkklllmmmnnnooopppqqqrrrssstttuuuvvvwwwxxxyyy{{u~}r\\x80\\x7fo\\x82\\x80l\\x84\\x81i\\x85\\x82f\\x87\\x83d\\x88\\x84b\\x88\\x84a\\x89\\x85`\\x89\\x85_\\x8a\\x85^\\x8a\\x86^\\x8a\\x86_\\x8a\\x86`\\x8b\\x86a\\x8b\\x87c\\x8b\\x87f\\x8c\\x88i\\x8c\\x89m\\x8d\\x8aq\\x8d\\x8bw\\x8e\\x8c|\\x8f\\x8e\\x83\\x91\\x90\\x8b\\x93\\x93\\x93\\x94\\x94\\x94\\x95\\x95\\x95\\x96\\x96\\x96\\x97\\x97\\x97\\x98\\x98\\x98\\x99\\x99\\x99\\x9a\\x9a\\x9a\\x9b\\x9b\\x9b\\x9c\\x9c\\x9c\\x9d\\x9d\\x9d\\x9e\\x9e\\x9e\\x9f\\x9f\\x9f\\xa0\\xa0\\xa0\\xa1\\xa1\\xa1\\xa2\\xa2\\xa2\\xa3\\xa3\\xa3\\xa4\\xa4\\xa4\\xa5\\xa5\\xa5\\xa6\\xa6\\xa6\\xa7\\xa7\\xa7\\xa8\\xa8\\xa8\\xa9\\xa9\\xa9\\xaa\\xaa\\xaa\\xab\\xab\\xab\\xac\\xac\\xac\\xad\\xad\\xad\\xae\\xae\\xae\\xaf\\xaf\\xaf\\xb0\\xb0\\xb0\\xb1\\xb1\\xb1\\xb4\\xb3\\xb4\\xb8\\xb5\\xb8\\xbb\\xb7\\xbb\\xbe\\xb9\\xbf\\xc1\\xbb\\xc1\\xc4\\xbe\\xc6\\xc6\\xc1\\xca\\xc8\\xc3\\xce\\xc9\\xc5\\xd1\\xd0\\xcd\\xd8\\xdb\\xda\\xe2\\xe7\\xe6\\xec\\xf2\\xf2\\xf5\\xf8\\xf8\\xfa\\xfb\\xfb\\xfc\\xfd\\xfd\\xfe\\xfe\\xfe\\xfe\\xfe\\xfe\\xfe\\xfe\\xfe\\xfe\\xfe\\xfe\\xfe\\xfe\\xfe\\xfe\\xfe\\xfe\\xfe\\xfe\\xfe\\xfe\\xfe\\xfe\\xfe\\xfe\\xfe\\xfe\\xfe\\xfe\\xfe\\xfe\\xfe\\xfe\\xfe\\xfe\\xfe\\xfe\\xfe\\xfe\\xfe\\xfe\\xfe\\xfe\\xfe\\xfe\\xfe\\xfe\\xfe\\xfe\\xfe\\xfe\\xfe\\xfe\\xfe\\xfe\\xfe\\xfe\\xfe\\xfe\\xfe\\xfe\\xfe\\xfe\\xfe\\xfe\\xfe\\xfe\\xfe\\xfe\\xfe\\xfe\\xfe\\xfe\\xfe\\xfe\\xfe\\xfe\\xfe\\xfe\\xfe\\xfe\\xfe\\xfe\\xfe\\xfe\\xfe\\xfe\\xfe\\xfe\\xfe\\xfe\\xfe\\xfe\\xfe\\xfe\\xfe\\xfe\\xfe\\xfe\\xfe\\xfe\\xfe\\xfe\\xfe\\xfe\\xfe\\xfe\\xfe\\xfe\\xfe\\xfe\\xfe\\xfe\\xfe\\xfe\\xfe\\xfe\\xfe\\xfe\\xfe\\xfe\\xfe\\xfe\\xfe\\xfe\\xfe\\xfe\\xfe\\xfe\\xfe\\xfe\\xfe\\xfe\\xfe\\xfe\\xfe\\xfe\\xfe\\xfe\\xfe\\xfe\\xfe\\xfe\\xfe\\xfe\\xfe\\xfe\\xfe\\xfe\\xfe\\xfe\\xfe\\xfe\\xfe\\xfe\\xfe\\xfe\\xfe\\xfe\\xfe\\xfe\\xfe\\xfe\\xfe\\xfe\\xfe\\xfe\\xfe\\xfe\\xfe\\xfe\\xfe\\xfe\\xfe\\xfe\\xfe\\xfe\\xfe\\xfe\\xfe\\xfe\\xfe\\xfe\\xff\\xff\\xff\\x08\\xfe\\x00\\xff\\t\\x1cH\\xb0\\xa0\\xc1\\x83\\x08\\x13*\\\\\\xc8\\xb0\\xa1\\xc3\\x87\\x10#J\\x9cH\\xb1\\xa2\\xc5\\x8b\\x183j\\xdc\\xc8\\xb1\\xa3\\xc7\\x8f C\\x8a\\x1cI\\xb2\\xa4\\xc9\\x93(S\\xaa\\\\\\xc9\\xb2\\xa5\\xcb\\x970c\\xca\\x9cI\\xb3\\xa6\\xcd\\x9b8s\\xea<h\\xa8\\xa7OC\\x11w\\xec@\\xb9\\xab\\xa8\\xd1]\\x0e\\x7f*\\xed\\xc9P\\xa8\\xd3\\xa1$\\x8fJ-\\xcap\\xe9R\\x85O\\x9fF\\x9d*u\\xa1R\\x83L\\x13fu:\\xb2kA\\xaa\\t\\x7fR\\x14*Pk\\xc8\\xa3\\x13\\xbf^t\\xfb\\xd1lD\\xb5s\\xc9\\xbe5\\x1a\\xd7\\xe7@\\xb9\\x0f\\xe9z\\x84\\xdb\\xa5K\\x93\\xc3M\\x90z\\xf5k5lC\\xc1\\x1d\\x8fv\\x99zX1\\xc2\\xc6V\\x1dB\\xe6h41W\\xcfi\\xf1\\xfe\\x15\\xbdp\\xf3\\xc6\\xce\\x96\\x05\\xa2\\x0e\\xed\\x98 i\\xb1zAJ6\\xb8\\x0b\\xf4\\xe5\\xd6\\xae\\xfd6\\x8d=\\x98o\\xe1.\\x02\\x0b{N]P7X\\xe3XyG\\xe6;\\xb0\\xb0j\\xe6<q\\x8f\\x96~\\xd0\\xf4i\\xb4\\xb4\\xa1\\x1f\\x97\\xfe\\x1a6\\xdb\\xbd\\xd8\\x07[\\xc2e\\xdd\\x1api\\xe5\\xcb\\xb5\\xdb\\xbd\\x8d\\x19\\xa8\\xf7\\xb1\\xe85r]O\\xfejr\\xf8\\xf1\\xe5\\xcf\\'\\xae0\\xf3n\\xfc\\xdf\\xc96\\xd5N\\x04\\x16h\\xe0\\x81\\x08&8\\x11}\\n6D\\x1c\\x7f\\r&\\xc4\\x1f\\x84\\x11\\x1e\\x04!\\x85\\x15\\x124a\\x86\\x0e*\\xa6\\x1d\\x87\\n\\x85\\x07\\xe2\\x88$\\x96h\\xe2\\x89(\\xa6\\xa8\"J\\x01\\x01\\x00;'"
      ]
     },
     "execution_count": 327,
     "metadata": {},
     "output_type": "execute_result"
    }
   ],
   "source": [
    "t = int(time.time()) # 获取当前时间戳，用于命名图片文件\n",
    "img = requests.get(url, headers=headers)\n",
    "with open('captcha.gif', 'wb') as f:\n",
    "    f.write(img.content)\n",
    "img.content"
   ]
  },
  {
   "cell_type": "markdown",
   "metadata": {},
   "source": [
    "👇`PIL`全名：Python Imaging Library，是一个用于处理图像的库。其中：\n",
    "\n",
    "    Image：用于处理图像的基本操作，如裁剪、缩放、旋转、滤波、转换等。\n",
    "    ImageSequence：用于处理多帧图像，如gif、视频等。\n",
    "    ImageChops：用于对图像进行像素级别的操作，如加减、变换、合并等。\n",
    "\n",
    "`io`库：用于处理输入输出，包括文件读写、网络传输、图像处理等。"
   ]
  },
  {
   "cell_type": "code",
   "execution_count": 328,
   "metadata": {},
   "outputs": [],
   "source": [
    "from PIL import Image, ImageSequence, ImageChops\n",
    "import io"
   ]
  },
  {
   "cell_type": "markdown",
   "metadata": {},
   "source": [
    "👇使用io.BytesIO()将图片数据转换为`文件`对象，再使用Image.open()打开图片文件，即可得到图片对象。"
   ]
  },
  {
   "cell_type": "code",
   "execution_count": 329,
   "metadata": {},
   "outputs": [],
   "source": [
    "gif = io.BytesIO(img.content)\n",
    "tmp = Image.open(gif)"
   ]
  },
  {
   "cell_type": "code",
   "execution_count": 330,
   "metadata": {},
   "outputs": [],
   "source": [
    "tmp.show()#显示图片"
   ]
  },
  {
   "cell_type": "markdown",
   "metadata": {},
   "source": [
    "👇为了更方便的显示图片，我们使用matplotlib库来显示图片。\n",
    "\n",
    "将Image类转换为numpy数组，并使用imshow()函数显示出来。"
   ]
  },
  {
   "cell_type": "code",
   "execution_count": 331,
   "metadata": {},
   "outputs": [],
   "source": [
    "from matplotlib import pyplot as plt\n",
    "import numpy as np"
   ]
  },
  {
   "cell_type": "code",
   "execution_count": 332,
   "metadata": {},
   "outputs": [
    {
     "data": {
      "image/png": "[encoded data removed]",
      "text/plain": [
       "<Figure size 640x480 with 1 Axes>"
      ]
     },
     "metadata": {},
     "output_type": "display_data"
    }
   ],
   "source": [
    "image_array = np.array(tmp)\n",
    "plt.imshow(image_array)\n",
    "plt.show()"
   ]
  },
  {
   "cell_type": "markdown",
   "metadata": {},
   "source": [
    "👆可以看到这里只显示了gif的一帧\n",
    "![image.gif](./captcha.gif)"
   ]
  },
  {
   "cell_type": "markdown",
   "metadata": {},
   "source": [
    "👇下面我们将不同的帧的像素合并。\n",
    "同时，去掉背景中的噪声。\n",
    "\n",
    "怎么去呢？\n",
    "```通过观察我们发现，噪声在每一帧都会变化，但数字部分闪烁速度较慢，所以对于像素值在时间上的平均值，噪声部分要低于数字部分。利用这一点我们可以去掉噪声。```"
   ]
  },
  {
   "cell_type": "code",
   "execution_count": 341,
   "metadata": {},
   "outputs": [
    {
     "data": {
      "image/png": "[encoded data removed]",
      "text/plain": [
       "<Figure size 640x480 with 1 Axes>"
      ]
     },
     "metadata": {},
     "output_type": "display_data"
    }
   ],
   "source": [
    "arr1 = np.zeros((58,90))\n",
    "for frame in ImageSequence.Iterator(tmp):\n",
    "    arr2 = np.array(frame.convert('L'))\n",
    "    # print(arr2.shape)\n",
    "    arr1 += arr2  \n",
    "arr1 = arr1//4\n",
    "\n",
    "arr1 = (arr1<200)*255 #阈值化\n",
    "merged_image = Image.fromarray(arr1) #从numpy数组转换回图片\n",
    "plt.imshow(merged_image)\n",
    "plt.show()"
   ]
  },
  {
   "cell_type": "markdown",
   "metadata": {},
   "source": [
    "👇最后一步，对每个数字进行裁剪并保存"
   ]
  },
  {
   "cell_type": "code",
   "execution_count": 334,
   "metadata": {},
   "outputs": [],
   "source": [
    "merged_image = merged_image.convert('L')\n",
    "merged_image.crop(( 0, 18, 16, 40)).save(f'./split/1-{t}.png')\n",
    "merged_image.crop((22, 18, 38, 40)).save(f'./split/2-{t}.png')\n",
    "merged_image.crop((44, 18, 60, 40)).save(f'./split/3-{t}.png')\n",
    "merged_image.crop((66, 18, 82, 40)).save(f'./split/4-{t}.png')"
   ]
  },
  {
   "cell_type": "markdown",
   "metadata": {},
   "source": [
    "# ·整合并循环"
   ]
  },
  {
   "cell_type": "code",
   "execution_count": 1,
   "metadata": {},
   "outputs": [
    {
     "name": "stdout",
     "output_type": "stream",
     "text": [
      "第1/16次请求验证码成功\n",
      "第2/16次请求验证码成功\n",
      "第3/16次请求验证码成功\n",
      "第4/16次请求验证码成功\n",
      "第5/16次请求验证码成功\n",
      "第6/16次请求验证码成功\n",
      "第7/16次请求验证码成功\n",
      "第8/16次请求验证码成功\n",
      "第9/16次请求验证码成功\n",
      "第10/16次请求验证码成功\n",
      "第11/16次请求验证码成功\n",
      "第12/16次请求验证码成功\n",
      "第13/16次请求验证码成功\n",
      "第14/16次请求验证码成功\n",
      "第15/16次请求验证码成功\n",
      "第16/16次请求验证码成功\n"
     ]
    }
   ],
   "source": [
    "import requests\n",
    "import time\n",
    "from PIL import Image, ImageSequence, ImageChops\n",
    "import io\n",
    "from matplotlib import pyplot as plt\n",
    "import numpy as np\n",
    "\n",
    "\n",
    "url = \"https://pass.hust.edu.cn/cas/code\"\n",
    "UA = \"Mozilla/5.0 (Windows NT 10.0; Win64; x64) AppleWebKit/537.36 (KHTML, like Gecko) Chrome/126.0.0.0 Safari/537.36\"\n",
    "\n",
    "headers = {\n",
    "    \"User-Agent\":UA,\n",
    "}\n",
    "\n",
    "# 循环请求验证码图片，并保存为4张小图片\n",
    "num = 16\n",
    "for i in range(num):\n",
    "    t = int(time.time()) # 获取当前时间戳，用于命名图片文件\n",
    "    img = requests.get(url, headers=headers)\n",
    "\n",
    "    gif = io.BytesIO(img.content)\n",
    "    tmp = Image.open(gif)\n",
    "\n",
    "    arr1 = np.zeros((58,90))\n",
    "    for frame in ImageSequence.Iterator(tmp):\n",
    "        arr2 = np.array(frame.convert('L'))\n",
    "        # print(arr2.shape)\n",
    "        arr1 += arr2  \n",
    "    arr1 = arr1//4\n",
    "\n",
    "    arr1 = (arr1<210)*255 #阈值化\n",
    "    merged_image = Image.fromarray(arr1) #从numpy数组转换回图片\n",
    "\n",
    "    merged_image = merged_image.convert('L')\n",
    "    merged_image.crop(( 0, 16, 16, 40)).save(f'./split/1-{t}.png')\n",
    "    merged_image.crop((22, 16, 38, 40)).save(f'./split/2-{t}.png')\n",
    "    merged_image.crop((44, 16, 60, 40)).save(f'./split/3-{t}.png')\n",
    "    merged_image.crop((66, 16, 82, 40)).save(f'./split/4-{t}.png')\n",
    "    print(f\"第{i+1}/{num}次请求验证码成功\")\n",
    "    time.sleep(1) # 等待1秒，防止请求过快以致服务器拒绝"
   ]
  }
 ],
 "metadata": {
  "kernelspec": {
   "display_name": "Pytch",
   "language": "python",
   "name": "python3"
  },
  "language_info": {
   "codemirror_mode": {
    "name": "ipython",
    "version": 3
   },
   "file_extension": ".py",
   "mimetype": "text/x-python",
   "name": "python",
   "nbconvert_exporter": "python",
   "pygments_lexer": "ipython3",
   "version": "3.9.18"
  }
 },
 "nbformat": 4,
 "nbformat_minor": 2
}
