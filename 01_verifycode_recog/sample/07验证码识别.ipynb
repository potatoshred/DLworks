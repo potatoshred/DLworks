{
 "cells": [
  {
   "cell_type": "code",
   "execution_count": 14,
   "metadata": {},
   "outputs": [],
   "source": [
    "import requests\n",
    "from PIL import Image, ImageSequence\n",
    "import numpy as np\n",
    "import matplotlib.pyplot as plt\n",
    "import io\n",
    "\n",
    "import torch\n",
    "import torch.nn as nn\n",
    "import torch.optim as optim"
   ]
  },
  {
   "cell_type": "code",
   "execution_count": 3,
   "metadata": {},
   "outputs": [],
   "source": [
    "# 拉取验证码图片\n",
    "url = \"https://pass.hust.edu.cn/cas/code\"\n",
    "UA = \"Mozilla/5.0 (Windows NT 10.0; Win64; x64) AppleWebKit/537.36 (KHTML, like Gecko) Chrome/126.0.0.0 Safari/537.36\"\n",
    "\n",
    "headers = {\n",
    "    \"User-Agent\":UA,\n",
    "}\n",
    "\n",
    "\n",
    "response = requests.get(url, headers=headers)\n",
    "# with open(\"code.gif\", \"wb\") as f:\n",
    "#     f.write(response.content)"
   ]
  },
  {
   "cell_type": "code",
   "execution_count": 13,
   "metadata": {},
   "outputs": [
    {
     "data": {
      "image/jpeg": "[encoded data removed]",
      "image/png": "[encoded data removed]",
      "text/plain": [
       "<PIL.GifImagePlugin.GifImageFile image mode=RGB size=90x58>"
      ]
     },
     "execution_count": 13,
     "metadata": {},
     "output_type": "execute_result"
    }
   ],
   "source": [
    "img = Image.open(io.BytesIO(response.content))\n",
    "img.seek(1) # 帧指针指向第二帧\n",
    "img"
   ]
  },
  {
   "cell_type": "markdown",
   "metadata": {},
   "source": [
    "预处理+分割"
   ]
  },
  {
   "cell_type": "code",
   "execution_count": null,
   "metadata": {},
   "outputs": [],
   "source": [
    "arr1 = np.zeros((58,90))\n",
    "for frame in ImageSequence.Iterator(img):\n",
    "    arr2 = np.array(frame.convert('L'))\n",
    "    # print(arr2.shape)\n",
    "    arr1 += arr2  \n",
    "arr1 = arr1//4\n",
    "\n",
    "arr1 = (arr1<210)*255 #阈值化\n",
    "merged_image = Image.fromarray(arr1) #从numpy数组转换回图片\n",
    "merged_image = merged_image.convert('L') #转为灰度图\n",
    "d1 = merged_image.crop(( 0, 16, 16, 40))\n",
    "d2 = merged_image.crop((22, 16, 38, 40))\n",
    "d3 = merged_image.crop((44, 16, 60, 40))\n",
    "d4 = merged_image.crop((66, 16, 82, 40))"
   ]
  }
 ],
 "metadata": {
  "kernelspec": {
   "display_name": "Pytch",
   "language": "python",
   "name": "python3"
  },
  "language_info": {
   "codemirror_mode": {
    "name": "ipython",
    "version": 3
   },
   "file_extension": ".py",
   "mimetype": "text/x-python",
   "name": "python",
   "nbconvert_exporter": "python",
   "pygments_lexer": "ipython3",
   "version": "3.9.18"
  }
 },
 "nbformat": 4,
 "nbformat_minor": 2
}
