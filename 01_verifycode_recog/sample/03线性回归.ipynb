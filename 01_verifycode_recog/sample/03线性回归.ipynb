{
 "cells": [
  {
   "cell_type": "code",
   "execution_count": 2,
   "metadata": {},
   "outputs": [],
   "source": [
    "import numpy as np\n",
    "from torch import nn, optim\n",
    "import torch\n",
    "import random\n",
    "import time"
   ]
  },
  {
   "cell_type": "markdown",
   "metadata": {},
   "source": [
    "🤔思考：如何加载数据？"
   ]
  },
  {
   "cell_type": "code",
   "execution_count": 3,
   "metadata": {},
   "outputs": [],
   "source": [
    "with open(\"labels.txt\", \"r\") as f:\n",
    "    raw = f.readlines() #读取所有行\n",
    "\n",
    "tags = []\n",
    "data = []\n",
    "for l in raw:\n",
    "    tags.append(int(l[0]))#每行的第一个字符是标签\n",
    "    d = l[1:-1]#去掉标签和换行符\n",
    "    d = map(float, tuple(d)) #将字符串转换为tuple，数字转换为float，方便后续转为tensor\n",
    "    #tuple相对于list更省内存，因为tuple是不可变的，对象所含method更少\n",
    "    data.append(tuple(d))\n",
    "\n",
    "#将标签和数据转为tensor，方便后续切分训练集和测试集\n",
    "data = torch.tensor(data)\n",
    "tags = torch.tensor(tags)\n",
    "\n",
    "#划分训练集和测试集\n",
    "train_test_ratio = 0.8 #训练集占总数据集的比例\n",
    "\n",
    "train_size = int(train_test_ratio * len(data)) #训练集大小\n",
    "test_size = len(data) - train_size #测试集大小\n",
    "\n",
    "# 切分训练集和测试集\n",
    "data_train = data[:train_size]\n",
    "data_test  = data[train_size:]\n",
    "tags_train = tags[:train_size]\n",
    "tags_test  = tags[train_size:]"
   ]
  },
  {
   "cell_type": "code",
   "execution_count": 4,
   "metadata": {},
   "outputs": [],
   "source": [
    "# 直接套用d2l网站上的代码，没有改动\n",
    "def data_iter(batch_size, features, labels):\n",
    "    num_examples = len(features)\n",
    "    indices = list(range(num_examples))\n",
    "    # 这些样本是随机读取的，没有特定的顺序\n",
    "    random.shuffle(indices)\n",
    "    for i in range(0, num_examples, batch_size):\n",
    "        batch_indices = torch.tensor(indices[i: min(i + batch_size, num_examples)])\n",
    "        yield features[batch_indices], labels[batch_indices]\n",
    "\n",
    "\n",
    "batch_size = 10\n",
    "\n",
    "w = torch.normal(0, 0.01, size=(len(data[0]), 1), requires_grad=True, dtype=torch.float32) #对每个像素都有一个权重\n",
    "b = torch.zeros(1, requires_grad=True)"
   ]
  },
  {
   "cell_type": "markdown",
   "metadata": {},
   "source": [
    "👇方案1：Linear Regression"
   ]
  },
  {
   "cell_type": "code",
   "execution_count": 5,
   "metadata": {},
   "outputs": [],
   "source": [
    "# 训练模型\n",
    "def linreg(X, w, b):\n",
    "    return torch.matmul(X, w) + b\n",
    "\n",
    "# 损失函数\n",
    "def mse_loss(y_pred, y_true):\n",
    "    return torch.mean((y_pred - y_true)**2)\n",
    "\n",
    "# 优化器\n",
    "def sgd(params, lr, batch_size):\n",
    "    \"\"\"小批量随机梯度下降\"\"\"\n",
    "    with torch.no_grad():\n",
    "        for param in params:    \n",
    "            param -= lr * param.grad / batch_size\n",
    "            param.grad.zero_()"
   ]
  },
  {
   "cell_type": "markdown",
   "metadata": {},
   "source": [
    "sgd优化器数学原理：\n",
    "- 计算梯度：$\\mathbf{g} \\leftarrow \\partial_{(\\mathbf{w},b)} \\frac{1}{|\\mathcal{B}|} \\sum_{i \\in \\mathcal{B}} l(\\mathbf{x}^{(i)}, y^{(i)}, \\mathbf{w}, b)$\n",
    "  - 其中$l$是损失函数，$\\mathcal{B}$是训练集，$\\mathbf{x}^{(i)}$是第$i$个样本的输入，$y^{(i)}$是第$i$个样本的标签，$\\mathbf{w}$和$b$是模型参数\n",
    "- 更新参数：$\\mathbf{w} \\leftarrow \\mathbf{w} - \\eta \\cdot \\mathbf{g}$，\n",
    "- $\\eta$ 是学习率，控制更新步长\n"
   ]
  },
  {
   "cell_type": "code",
   "execution_count": 7,
   "metadata": {},
   "outputs": [
    {
     "name": "stdout",
     "output_type": "stream",
     "text": [
      "epoch 01, correct rate on training set: 0.88%\n",
      "epoch 02, correct rate on training set: 10.56%\n",
      "epoch 03, correct rate on training set: 21.41%\n",
      "epoch 04, correct rate on training set: 10.56%\n",
      "epoch 05, correct rate on training set: 0.00%\n",
      "epoch 06, correct rate on training set: 11.14%\n",
      "epoch 07, correct rate on training set: 10.26%\n",
      "epoch 08, correct rate on training set: 12.02%\n",
      "epoch 09, correct rate on training set: 9.97%\n",
      "epoch 10, correct rate on training set: 10.26%\n",
      "epoch 11, correct rate on training set: 12.02%\n",
      "epoch 12, correct rate on training set: 10.26%\n",
      "epoch 13, correct rate on training set: 0.59%\n",
      "epoch 14, correct rate on training set: 9.38%\n",
      "epoch 15, correct rate on training set: 12.90%\n",
      "epoch 16, correct rate on training set: 21.99%\n"
     ]
    }
   ],
   "source": [
    "lr = 0.02\n",
    "num_epochs = 16\n",
    "net = linreg\n",
    "loss = mse_loss\n",
    "\n",
    "for epoch in range(num_epochs):\n",
    "    for X, y in data_iter(batch_size, data_train, tags_train):\n",
    "        l = loss(net(X, w, b), y)  # X和y的小批量损失\n",
    "        # 因为l形状是(batch_size,1)，而不是一个标量。l中的所有元素被加到一起，\n",
    "        # 并以此计算关于[w,b]的梯度\n",
    "        l.sum().backward() # 反向传播\n",
    "        # 使用小批量随机梯度下降更新参数\n",
    "        sgd([w, b], lr, batch_size) \n",
    "    with torch.no_grad():\n",
    "        tags_pred = torch.round(net(data_train, w, b)).reshape(tags_train.shape)\n",
    "        acc_num = (tags_pred == tags_train).sum().item()  # 计算预测正确的样本数\n",
    "        print(f'epoch {epoch + 1:02d}, correct rate on training set: {acc_num/len(data_train)*100:.02f}%')"
   ]
  },
  {
   "cell_type": "markdown",
   "metadata": {},
   "source": []
  },
  {
   "cell_type": "code",
   "execution_count": 8,
   "metadata": {},
   "outputs": [
    {
     "name": "stdout",
     "output_type": "stream",
     "text": [
      "correct rate on test set: 23.26%\n"
     ]
    }
   ],
   "source": [
    "with torch.no_grad():\n",
    "    train_l = torch.round(net(data_test, w, b)).reshape(tags_test.shape) == tags_test  # 训练集上的损失\n",
    "    print(f'correct rate on test set: {train_l.sum()/len(tags_test)*100:.02f}%')"
   ]
  },
  {
   "cell_type": "markdown",
   "metadata": {},
   "source": [
    "👆可以看到，正确率很低上不去，说明可能不存在线性可分的情况，需要更换其他回归模型。例如，决策树、随机森林、支持向量机等。"
   ]
  }
 ],
 "metadata": {
  "kernelspec": {
   "display_name": "Pytch",
   "language": "python",
   "name": "python3"
  },
  "language_info": {
   "codemirror_mode": {
    "name": "ipython",
    "version": 3
   },
   "file_extension": ".py",
   "mimetype": "text/x-python",
   "name": "python",
   "nbconvert_exporter": "python",
   "pygments_lexer": "ipython3",
   "version": "3.9.18"
  }
 },
 "nbformat": 4,
 "nbformat_minor": 2
}
